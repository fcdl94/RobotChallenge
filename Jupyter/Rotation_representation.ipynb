{
 "cells": [
  {
   "cell_type": "markdown",
   "metadata": {},
   "source": [
    "# Quaternions\n",
    "\n",
    "## Representation\n",
    "Quaternion represented by:\n",
    "    q = a + bi + cj + dk = cos(t/2) + (u1, u2, u3)\\*sin(t/2)\n",
    "and the conjugate is\n",
    "    q* = a - bi - cj - dk\n",
    "\n",
    "## geodesic_distance\n",
    "The **difference rotation quaternion** that represents the difference rotation is defined as **r≜pq∗**\n",
    "The distance between rotations represented by unit quaternions p and q is the **angle of the difference rotation** represented by the unit quaternion **r=pq∗**.\n",
    "\n",
    "So, from the Hamilton product of quaternions, we can derive that the r's scalar part is equal to:\n",
    "\n",
    "    cos(t/2) = p1q1 + p2q2 + p3q3 + p4q4\n",
    "So that\n",
    "\n",
    "    t = 2 arcos ( | p1q1 + p2q2 + p3q3 + p4q4 | ) = 2 arcos ( |<p,q>| )\n",
    "And this represent the distance between rotations or **geodesic distance**.\n",
    "\n",
    "## quaternion_from_matrix\n",
    "From https://d3cw3dd2w32x2b.cloudfront.net/wp-content/uploads/2015/01/matrix-to-quat.pdf but: \n",
    "* changing representation to adapt to us (i.e. move w (our a) from the last position to the first one).\n",
    "* Altered to work with the column vector convention instead of row vectors\n",
    "\n",
    "Code inspired by https://github.com/KieranWynn/pyquaternion/blob/master/pyquaternion/quaternion.py.\n",
    "\n"
   ]
  },
  {
   "cell_type": "code",
   "execution_count": 2,
   "metadata": {},
   "outputs": [],
   "source": [
    "def quaternion_from_matrix(matrix):\n",
    "    import numpy as np\n",
    "    from math import sqrt\n",
    "    \"\"\"Initialise from matrix representation\n",
    "    Create a Quaternion by specifying the 3x3 rotation matrix \n",
    "    (as a numpy array) from which the quaternion's rotation should be created.\n",
    "    \"\"\"\n",
    "    try:\n",
    "        shape = matrix.shape\n",
    "    except AttributeError:\n",
    "        raise TypeError(\"Invalid matrix type: Input must be a 3x3 numpy matrix\")\n",
    "\n",
    "    if shape == (3, 3):\n",
    "        R = matrix\n",
    "    else:\n",
    "        raise ValueError(\"Invalid matrix shape: Input must be a 3x3 or 4x4 numpy array or matrix\")\n",
    "\n",
    "    # Check matrix properties\n",
    "    if not np.allclose(np.dot(R, R.conj().transpose()), np.eye(3), atol=1e-5):\n",
    "        raise ValueError(\"Matrix must be orthogonal, i.e. its transpose should be its inverse\")\n",
    "    if not np.isclose(np.linalg.det(R), 1.0):\n",
    "        raise ValueError(\"Matrix must be special orthogonal i.e. its determinant must be +1.0\")\n",
    "\n",
    "    m = matrix # matrix.conj().transpose() # This method assumes row-vector and postmultiplication of that vector\n",
    "    if m[2, 2] < 0:\n",
    "        if m[0, 0] > m[1, 1]:\n",
    "            t = 1 + m[0, 0] - m[1, 1] - m[2, 2]\n",
    "            q = [m[1, 2]-m[2, 1],  t,  m[0, 1]+m[1, 0],  m[2, 0]+m[0, 2]]\n",
    "        else:\n",
    "            t = 1 - m[0, 0] + m[1, 1] - m[2, 2]\n",
    "            q = [m[2, 0]-m[0, 2],  m[0, 1]+m[1, 0],  t,  m[1, 2]+m[2, 1]]\n",
    "    else:\n",
    "        if m[0, 0] < -m[1, 1]:\n",
    "            t = 1 - m[0, 0] - m[1, 1] + m[2, 2]\n",
    "            q = [m[0, 1]-m[1, 0],  m[2, 0]+m[0, 2],  m[1, 2]+m[2, 1],  t]\n",
    "        else:\n",
    "            t = 1 + m[0, 0] + m[1, 1] + m[2, 2]\n",
    "            q = [t,  m[1, 2]-m[2, 1],  m[2, 0]-m[0, 2],  m[0, 1]-m[1, 0]]\n",
    "\n",
    "    q = np.array(q)\n",
    "    q *= 0.5 / sqrt(t);\n",
    "\n",
    "    # Normalize again, there can be some numerical errors\n",
    "    q = q / np.linalg.norm(q)\n",
    "    return q"
   ]
  },
  {
   "cell_type": "code",
   "execution_count": 3,
   "metadata": {},
   "outputs": [],
   "source": [
    "# def geodesic_distance(q1, q2):\n",
    "#     from torch import dot, acos, abs\n",
    "#     d = 2*acos(abs(torch.bmm(q1.view(q1.size()[0], 1, 4), q2.view(q2.size()[0], 4, 1))))\n",
    "#     return d\n",
    "\n",
    "from torch import dot, acos, abs\n",
    "def geodesic_distance(q1, q2):\n",
    "    val = torch.abs(torch.bmm(q1.view(q1.size()[0], 1, 4), q2.view(q2.size()[0], 4, 1)))\n",
    "    for i, v in enumerate(val):\n",
    "        if v > 1.0:\n",
    "            val[i] = 1.0\n",
    "    d = 2*torch.acos(val)\n",
    "    return d"
   ]
  },
  {
   "cell_type": "code",
   "execution_count": 4,
   "metadata": {},
   "outputs": [],
   "source": [
    "def geodesic_distance_num(q1, q2, th=1e-5):\n",
    "    import numpy as np\n",
    "    import math\n",
    "    d = 2*math.acos(abs(np.dot(q1,q2)))\n",
    "    if d < th:\n",
    "        return 0.\n",
    "    return d"
   ]
  },
  {
   "cell_type": "code",
   "execution_count": 12,
   "metadata": {},
   "outputs": [
    {
     "name": "stdout",
     "output_type": "stream",
     "text": [
      "[0.60444039 0.29410654 0.35762815 0.64827098]\n",
      "\n",
      "[\n",
      "  0.0\n",
      "  45.00000000000001\n",
      "  45.00000000000001\n",
      "  62.799429619838094\n",
      "]\n",
      "tensor([[[ 1]],\n",
      "\n",
      "        [[ 0]],\n",
      "\n",
      "        [[ 0]],\n",
      "\n",
      "        [[ 0]]], dtype=torch.uint8)\n"
     ]
    }
   ],
   "source": [
    "from math import cos, sin, radians, degrees\n",
    "import numpy as np\n",
    "import torch\n",
    "\n",
    "t = 45 \n",
    "\n",
    "t = radians(t)\n",
    "\n",
    "I = np.eye(3)\n",
    "\n",
    "Rx = np.matrix([\n",
    "    [1.,0.,0.],\n",
    "    [0.,cos(t),-sin(t)],\n",
    "    [0.,sin(t),cos(t)]\n",
    "])\n",
    "Ry = np.matrix([\n",
    "    [cos(t),0.,sin(t)],\n",
    "    [0.,1.,0.],\n",
    "    [-sin(t),0.,cos(t)]\n",
    "])\n",
    "\n",
    "Real = np.matrix([\n",
    "    [-0.0963063, 0.994044, -0.0510079 ],\n",
    "    [-0.573321, -0.0135081, 0.81922 ],\n",
    "    [0.813651, 0.10814, 0.571207 ]\n",
    "])\n",
    "\n",
    "q = [0,0,0,0,0]\n",
    "q[0] = quaternion_from_matrix(Ry*Rx)\n",
    "q[1] = quaternion_from_matrix(Real)\n",
    "q[2] = quaternion_from_matrix(Rx)\n",
    "q[3] = quaternion_from_matrix(Ry)\n",
    "q[4] = quaternion_from_matrix(I)\n",
    "\n",
    "\n",
    "print(q[1])\n",
    "\n",
    "b1 = torch.tensor([q[1],q[2],q[3],q[0]])\n",
    "# q1 = torch.unsqueeze(q1, 0)\n",
    "\n",
    "b2 = torch.tensor([q[1],q[4],q[4],q[4]])\n",
    "# q2 = torch.unsqueeze(q2, 0)\n",
    "print(\"\\n[\")\n",
    "for val in geodesic_distance(b1,b2):\n",
    "    print(\"  \" + str(degrees(val)))\n",
    "print(\"]\")\n",
    "\n",
    "cor = geodesic_distance(b1, b2) < radians(10)\n",
    "print(cor)"
   ]
  },
  {
   "cell_type": "code",
   "execution_count": 11,
   "metadata": {},
   "outputs": [
    {
     "name": "stdout",
     "output_type": "stream",
     "text": [
      "[[-0.113309   0.991361  -0.0660649]\n",
      " [-0.585432  -0.0128929  0.810619 ]\n",
      " [ 0.802764   0.130527   0.581836 ]]\n"
     ]
    },
    {
     "data": {
      "text/plain": [
       "matrix([[ 1.00000013e+00, -2.66922000e-07,  5.40146000e-08],\n",
       "        [-2.66922000e-07,  1.00000002e+00,  7.10877700e-07],\n",
       "        [ 5.40146000e-08,  7.10877700e-07,  1.00000047e+00]])"
      ]
     },
     "execution_count": 11,
     "metadata": {},
     "output_type": "execute_result"
    }
   ],
   "source": [
    "real = np.matrix([\n",
    "    [-0.113309, 0.991361,  -0.0660649 ],\n",
    "    [-0.585432, -0.0128929, 0.810619 ],\n",
    "    [0.802764,  0.130527, 0.581836]\n",
    "])\n",
    " \n",
    "print(real)\n",
    "\n",
    "np.dot(real, real.conj().transpose())\n"
   ]
  },
  {
   "cell_type": "code",
   "execution_count": 140,
   "metadata": {},
   "outputs": [
    {
     "data": {
      "text/plain": [
       "tensor([[[ 0.4216]],\n",
       "\n",
       "        [[ 1.0000]]], dtype=torch.float64)"
      ]
     },
     "execution_count": 140,
     "metadata": {},
     "output_type": "execute_result"
    }
   ],
   "source": [
    "abs(torch.bmm(b1.view(b1.size()[0], 1, 4), b2.view(b2.size()[0], 4, 1)))"
   ]
  },
  {
   "cell_type": "code",
   "execution_count": 133,
   "metadata": {},
   "outputs": [
    {
     "data": {
      "text/plain": [
       "1.0000002168414646"
      ]
     },
     "execution_count": 133,
     "metadata": {},
     "output_type": "execute_result"
    }
   ],
   "source": [
    "np.dot(q1,q1)"
   ]
  },
  {
   "cell_type": "code",
   "execution_count": 138,
   "metadata": {},
   "outputs": [
    {
     "data": {
      "text/plain": [
       "tensor(0.)"
      ]
     },
     "execution_count": 138,
     "metadata": {},
     "output_type": "execute_result"
    }
   ],
   "source": [
    "torch.acos(torch.tensor(1.000000))"
   ]
  },
  {
   "cell_type": "code",
   "execution_count": 139,
   "metadata": {},
   "outputs": [
    {
     "data": {
      "text/plain": [
       "0.0"
      ]
     },
     "execution_count": 139,
     "metadata": {},
     "output_type": "execute_result"
    }
   ],
   "source": [
    "import math\n",
    "math.acos(1.000000)"
   ]
  },
  {
   "cell_type": "code",
   "execution_count": null,
   "metadata": {},
   "outputs": [],
   "source": []
  }
 ],
 "metadata": {
  "kernelspec": {
   "display_name": "Python 3",
   "language": "python",
   "name": "python3"
  },
  "language_info": {
   "codemirror_mode": {
    "name": "ipython",
    "version": 3
   },
   "file_extension": ".py",
   "mimetype": "text/x-python",
   "name": "python",
   "nbconvert_exporter": "python",
   "pygments_lexer": "ipython3",
   "version": "3.6.5"
  }
 },
 "nbformat": 4,
 "nbformat_minor": 2
}
