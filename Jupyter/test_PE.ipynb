{
 "cells": [
  {
   "cell_type": "code",
   "execution_count": 2,
   "metadata": {},
   "outputs": [],
   "source": [
    "import training\n",
    "import torch\n",
    "import OBC.networks\n",
    "import argparse\n",
    "import data_loader as dl\n",
    "import torch.optim as optim\n",
    "import torch.nn as nn\n",
    "import torch.utils.data\n",
    "import torch.nn.functional as f\n",
    "import torchvision\n",
    "from torchvision import transforms, datasets\n",
    "from datetime import datetime\n",
    "import numpy as np\n",
    "import OBC.ClassificationMetric as ClassificationMetric\n",
    "import PoseEstimation.PELoss as PELoss\n",
    "from PoseEstimation.LinemodDataset import LinemodDataset\n"
   ]
  },
  {
   "cell_type": "markdown",
   "metadata": {},
   "source": [
    "### Define the network and the loader  and paramters"
   ]
  },
  {
   "cell_type": "code",
   "execution_count": 3,
   "metadata": {},
   "outputs": [],
   "source": [
    "CLASSES = 2\n",
    "batch = 4\n",
    "lr = 1e-3\n",
    "momentum = 0.9\n",
    "decay = 0\n",
    "step = 100\n",
    "\n",
    "model = OBC.networks.resnet18(CLASSES+4, None)\n",
    "\n",
    "folder = '/home/fcdl/Develop/Data/linemod'\n",
    "\n",
    "# Build the training loader\n",
    "train_loader = dl.get_image_folder_loaders(folder + \"/sample\", LinemodDataset, \"NO\", batch)\n",
    "\n",
    "\n",
    "params_to_optim = list(filter(lambda p: p.requires_grad, model.parameters()))\n",
    "optimizer = optim.SGD(params_to_optim, lr=lr, momentum=momentum, weight_decay=decay)\n",
    "scheduler = optim.lr_scheduler.StepLR(optimizer, step)\n",
    "\n",
    "cost_function = PELoss.PE3DLoss(2)"
   ]
  },
  {
   "cell_type": "markdown",
   "metadata": {},
   "source": [
    "### Perform a sample training (only one batch)"
   ]
  },
  {
   "cell_type": "code",
   "execution_count": 4,
   "metadata": {},
   "outputs": [
    {
     "name": "stdout",
     "output_type": "stream",
     "text": [
      "torch.Size([4, 5])\n",
      "3.584178924560547\n"
     ]
    }
   ],
   "source": [
    "# Training part\n",
    "model.train()\n",
    "losses = 0\n",
    "current = 0\n",
    "\n",
    "# Perform the training procedure\n",
    "(data, target) =  next(iter(train_loader))\n",
    "print(target.size())\n",
    "optimizer.zero_grad()\n",
    "output = model(data)\n",
    "loss = cost_function(output, target)\n",
    "loss.backward()\n",
    "\n",
    "optimizer.step()\n",
    "\n",
    "losses += loss.item()\n",
    "current += 1\n",
    "    \n",
    "print(losses/current)"
   ]
  },
  {
   "cell_type": "markdown",
   "metadata": {},
   "source": [
    "### Compute the loss (get input from previous output)\n",
    "This is the code of PE3DLoss' forward method in PELoss (with some slight modification)"
   ]
  },
  {
   "cell_type": "code",
   "execution_count": 5,
   "metadata": {},
   "outputs": [
    {
     "name": "stdout",
     "output_type": "stream",
     "text": [
      "rot_target\n",
      "tensor([[ 0.9609, -0.2749, -0.0256,  0.0208],\n",
      "        [ 0.9358, -0.3506, -0.0113, -0.0363],\n",
      "        [ 0.9659, -0.2556, -0.0118, -0.0385],\n",
      "        [-0.6175,  0.2274,  0.2999,  0.6906]])\n",
      "rot_input\n",
      "tensor([[ 0.0437,  0.4942,  0.8024, -0.3317],\n",
      "        [ 0.2517, -0.0527,  0.8852, -0.3878],\n",
      "        [ 0.0667,  0.1596,  0.8943, -0.4126],\n",
      "        [ 0.4774,  0.4077,  0.7581, -0.1764]])\n",
      "Geod. dist= tensor(2.8875)\n",
      "Cross loss= tensor(0.6967)\n"
     ]
    }
   ],
   "source": [
    "# print(\"Output\")\n",
    "# print(output)\n",
    "# print(\"Target\")\n",
    "# print(target)\n",
    "x = output\n",
    "class_input, rot_input = x[:, 0:CLASSES], x[:, CLASSES:]\n",
    "class_target, rot_target = target[:, 0], target[:, 1:]\n",
    "\n",
    "# Quaternion / quaternion_norm  (L2 regularization)\n",
    "rot_input = f.normalize(rot_input, p=2, dim=1)\n",
    "\n",
    "print(\"rot_target\")\n",
    "print(rot_target)\n",
    "print(\"rot_input\")\n",
    "print(rot_input)\n",
    "\n",
    "cel = nn.CrossEntropyLoss()\n",
    "pwd = PELoss.GeodesicDistance()\n",
    "ce_loss = cel(class_input, class_target.long())\n",
    "distance = pwd(rot_input, rot_target)\n",
    "final_loss = ce_loss + distance.mean()\n",
    "\n",
    "print(\"Geod. dist= \" + str(distance.mean()))\n",
    "print(\"Cross loss= \" + str(ce_loss))"
   ]
  },
  {
   "cell_type": "markdown",
   "metadata": {},
   "source": [
    "### Compute the Metric (get input from previous output)\n",
    "This is the code of PEMetric's forward method in PELoss (with some slight modification)"
   ]
  },
  {
   "cell_type": "code",
   "execution_count": 9,
   "metadata": {},
   "outputs": [
    {
     "name": "stdout",
     "output_type": "stream",
     "text": [
      "tensor([ 1,  1,  1,  0], dtype=torch.uint8)\n",
      "tensor([ 0,  0,  0,  0], dtype=torch.uint8)\n"
     ]
    },
    {
     "data": {
      "text/plain": [
       "tensor(0)"
      ]
     },
     "execution_count": 9,
     "metadata": {},
     "output_type": "execute_result"
    }
   ],
   "source": [
    "from PoseEstimation.utils import rotation_equals\n",
    "import math\n",
    "\n",
    "x = output\n",
    "        \n",
    "class_input, rot_input = x[:, 0:2], x[:, 2:]\n",
    "class_target, rot_target = target[:, 0].long(), target[:, 1:]\n",
    "\n",
    "# Quaternion / quaternion_norm  (L2 regularization)\n",
    "rot_input = f.normalize(rot_input, p=2, dim=1)\n",
    "\n",
    "pred = torch.max(class_input, 1)[1]\n",
    "correct_class = pred.eq(class_target.data.view_as(pred))\n",
    "\n",
    "correct_pose = rotation_equals(rot_input, rot_target, math.radians(10))\n",
    "\n",
    "correct = (correct_class & correct_pose).cpu()  # to be correct both must be correct [1 and 1]\n",
    "\n",
    "print(correct_class)\n",
    "print(correct_pose)\n",
    "correct.sum(-1)"
   ]
  },
  {
   "cell_type": "code",
   "execution_count": 16,
   "metadata": {},
   "outputs": [
    {
     "name": "stdout",
     "output_type": "stream",
     "text": [
      "tensor([ 1.0000,  1.0000,  1.0000,  1.0000])\n"
     ]
    }
   ],
   "source": [
    "# Code to check if a quaternions batch is unit norm.\n",
    "rott = torch.tensor([[-0.3837, -0.1108,  0.6290,  0.6670],\n",
    "        [-0.1176, -0.3606,  0.8805,  0.2843],\n",
    "        [ 0.2009, -0.7628,  0.3014,  0.5357],\n",
    "        [-0.6261, -0.1755,  0.3599,  0.6691]])\n",
    "print(torch.norm(rott, 2, 1))\n",
    "\n",
    "\n",
    "\n"
   ]
  },
  {
   "cell_type": "code",
   "execution_count": null,
   "metadata": {},
   "outputs": [],
   "source": []
  }
 ],
 "metadata": {
  "kernelspec": {
   "display_name": "Python 3",
   "language": "python",
   "name": "python3"
  },
  "language_info": {
   "codemirror_mode": {
    "name": "ipython",
    "version": 3
   },
   "file_extension": ".py",
   "mimetype": "text/x-python",
   "name": "python",
   "nbconvert_exporter": "python",
   "pygments_lexer": "ipython3",
   "version": "3.6.5"
  }
 },
 "nbformat": 4,
 "nbformat_minor": 2
}
